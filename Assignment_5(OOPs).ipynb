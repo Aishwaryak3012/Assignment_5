{
 "cells": [
  {
   "cell_type": "markdown",
   "id": "3b8508ab",
   "metadata": {},
   "source": [
    "### Challenge 1: Square Numbers and Return Their Sum"
   ]
  },
  {
   "cell_type": "code",
   "execution_count": 1,
   "id": "ceed70fd",
   "metadata": {},
   "outputs": [
    {
     "name": "stdout",
     "output_type": "stream",
     "text": [
      "enter the 1st value : 1\n",
      "enter the 2nd value : 3\n",
      "enter the 3rd value : 5\n",
      "35\n"
     ]
    }
   ],
   "source": [
    "class Point:\n",
    "\n",
    "    def __init__(self,x,y,z):\n",
    "        self.x = x\n",
    "        self.y = y\n",
    "        self.z = z\n",
    "\n",
    "    def sqSum(self):\n",
    "        return self.x**2 + self.y**2 + self.z**2\n",
    "    \n",
    "value1 = int(input(\"enter the 1st value : \"))\n",
    "value2 = int(input(\"enter the 2nd value : \"))\n",
    "value3 = int(input(\"enter the 3rd value : \"))\n",
    "    \n",
    "point = Point(1,3,5)\n",
    "r = point.sqSum()\n",
    "print(r)"
   ]
  },
  {
   "cell_type": "markdown",
   "id": "130d9233",
   "metadata": {},
   "source": [
    "### Challenge 2: Implement a Calculator Class"
   ]
  },
  {
   "cell_type": "code",
   "execution_count": 2,
   "id": "33fd51ef",
   "metadata": {},
   "outputs": [
    {
     "name": "stdout",
     "output_type": "stream",
     "text": [
      "Enter the number 1 : 10\n",
      "Enter the number 2 : 94\n",
      "Addition of the num1 and num2:  104\n",
      "Substraction of the num1 and num2:  84\n",
      "Multiplication of the num1 and num2:  940\n",
      "Division of the num1 and num2  9.4\n"
     ]
    }
   ],
   "source": [
    "class Calculator:\n",
    "\n",
    "    def __init__(self,num1,num2):\n",
    "        self.num1 = num1\n",
    "        self.num2 = num2\n",
    "        \n",
    "    def add(self):\n",
    "        return self.num1 + self.num2\n",
    "    \n",
    "    def subtract(self):\n",
    "        return self.num2 - self.num1\n",
    "    \n",
    "    def multiply(self):\n",
    "        return self.num1 * self.num2\n",
    "    \n",
    "    def divide(self):\n",
    "        return self.num2 / self.num1\n",
    "    \n",
    "num1 = int(input(\"Enter the number 1 : \"))\n",
    "num2 = int(input(\"Enter the number 2 : \"))\n",
    "    \n",
    "calculator = Calculator(10,94)\n",
    "cal1 = calculator.add()\n",
    "cal2 = calculator.subtract()\n",
    "cal3 = calculator.multiply()\n",
    "cal4 = calculator.divide()\n",
    "\n",
    "print(\"Addition of the num1 and num2: \",cal1)\n",
    "print(\"Substraction of the num1 and num2: \",cal2)\n",
    "print(\"Multiplication of the num1 and num2: \",cal3)\n",
    "print(\"Division of the num1 and num2 \",cal4)\n"
   ]
  },
  {
   "cell_type": "markdown",
   "id": "bdd5bf86",
   "metadata": {},
   "source": [
    "### Challenge 3: Implement the Complete Student Class"
   ]
  },
  {
   "cell_type": "code",
   "execution_count": 13,
   "id": "1adf5e81",
   "metadata": {},
   "outputs": [
    {
     "name": "stdout",
     "output_type": "stream",
     "text": [
      "Enter the name of student : Aishwarya\n",
      "Enter the rollnumber of a student : 30\n",
      "Name: Aishwarya\n",
      "Roll Number: 30\n"
     ]
    }
   ],
   "source": [
    "stu_name = str(input(\"Enter the name of student : \"))\n",
    "roll_num = int(input(\"Enter the rollnumber of a student : \"))\n",
    "class Student:\n",
    "\n",
    "    def setName(self,name):\n",
    "        self.name = name\n",
    "        \n",
    "    def getName(self):\n",
    "        return self.name\n",
    "    \n",
    "    def setRollNumber(self,rollNumber):\n",
    "        self.rollNumber = rollNumber\n",
    "        \n",
    "    def getRollNumber(self):\n",
    "        return self.rollNumber\n",
    "    \n",
    "student = Student()\n",
    "student.setName(\"Aishwarya\")\n",
    "student.setRollNumber(30)\n",
    "name = student.getName()\n",
    "roll_Number = student.getRollNumber()\n",
    "print(\"Name:\", name)\n",
    "print(\"Roll Number:\", roll_Number)"
   ]
  },
  {
   "cell_type": "markdown",
   "id": "a9dd474e",
   "metadata": {},
   "source": [
    "### Challenge 4: Implement a Banking Account"
   ]
  },
  {
   "cell_type": "code",
   "execution_count": 14,
   "id": "fcc9dc47",
   "metadata": {},
   "outputs": [
    {
     "name": "stdout",
     "output_type": "stream",
     "text": [
      "enter the name : Ashish\n",
      "enter the balance : 5000\n",
      "enter the interestRate : 5\n",
      "Account Title :  Ashish\n",
      "Account Balance :  5000\n",
      "Account Title: Ashish\n",
      "Account Balance: 5000\n",
      "Interest Rate: 5\n"
     ]
    }
   ],
   "source": [
    "title = str(input(\"enter the name : \"))\n",
    "balance = int(input(\"enter the balance : \"))\n",
    "int_rate = int(input(\"enter the interestRate : \"))\n",
    "\n",
    "class Account:\n",
    "\n",
    "    def __init__(self,title=None,balance=0):\n",
    "        self.title = title\n",
    "        self.balance = balance\n",
    "\n",
    "class SavingsAccount(Account):\n",
    "\n",
    "    def __init__(self,title=None, balance=0, interestRate=0):\n",
    "        Account.__init__(self,title,balance)\n",
    "        self.interestRate = interestRate\n",
    "\n",
    "acc = Account(\"Ashish\",5000)\n",
    "ttle = acc.title\n",
    "bal = acc.balance\n",
    "print(\"Account Title : \",ttle)\n",
    "print(\"Account Balance : \",bal)\n",
    "\n",
    "saving_acc = SavingsAccount(\"Ashish\", 5000, 5)\n",
    "saving_ttle = saving_acc.title\n",
    "saving_bal = saving_acc.balance\n",
    "saving_int_rate = saving_acc.interestRate\n",
    "print(\"Account Title:\", saving_acc.title)\n",
    "print(\"Account Balance:\", saving_acc.balance)\n",
    "print(\"Interest Rate:\", saving_acc.interestRate)"
   ]
  },
  {
   "cell_type": "markdown",
   "id": "95e386e1",
   "metadata": {},
   "source": [
    "### Challenge 5: Handling a Bank Account"
   ]
  },
  {
   "cell_type": "code",
   "execution_count": 15,
   "id": "806500e0",
   "metadata": {},
   "outputs": [
    {
     "name": "stdout",
     "output_type": "stream",
     "text": [
      "enter the name : Ashish\n",
      "enter the balance : 2000\n",
      "enter the interestRate : 5\n"
     ]
    }
   ],
   "source": [
    "title = str(input(\"enter the name : \"))\n",
    "balance = int(input(\"enter the balance : \"))\n",
    "int_rate = int(input(\"enter the interestRate : \"))\n",
    "\n",
    "class Account:\n",
    "    def __init__(self, title=None, balance=0):\n",
    "        self.title = title\n",
    "        self.balance = balance\n",
    "    \n",
    "    def withdrawal(self, amount):\n",
    "        self.balance -= amount\n",
    "        \n",
    "\n",
    "    def deposite(self, amount):\n",
    "        self.balance += amount\n",
    "        \n",
    "    def getBalance(self):\n",
    "        return self.balance \n",
    "\n",
    "class SavingsAccount(Account):\n",
    "    def __init__(self, title=None, balance=0, interestRate=0):\n",
    "            super().__init__(title, balance)\n",
    "            self.interestRate = interestRate\n",
    "    \n",
    "    def interestAmount(self):\n",
    "        int_amount = (self.interestRate * self.balance) // 100\n",
    "        return int_amount\n",
    "    \n",
    "#Task1\n",
    "demo1 = SavingsAccount(\"Ashish\", 2000, 5) "
   ]
  },
  {
   "cell_type": "code",
   "execution_count": 16,
   "id": "49304fa0",
   "metadata": {},
   "outputs": [
    {
     "data": {
      "text/plain": [
       "2500"
      ]
     },
     "execution_count": 16,
     "metadata": {},
     "output_type": "execute_result"
    }
   ],
   "source": [
    "#Task2\n",
    "demo1.balance = 2000\n",
    "demo1.deposite(500)\n",
    "demo1.getBalance()"
   ]
  },
  {
   "cell_type": "code",
   "execution_count": 17,
   "id": "7d0a278d",
   "metadata": {},
   "outputs": [
    {
     "data": {
      "text/plain": [
       "1500"
      ]
     },
     "execution_count": 17,
     "metadata": {},
     "output_type": "execute_result"
    }
   ],
   "source": [
    "#Task3\n",
    "demo1.balance = 2000\n",
    "demo1.withdrawal(500)\n",
    "demo1.getBalance()"
   ]
  },
  {
   "cell_type": "code",
   "execution_count": 18,
   "id": "007d63b5",
   "metadata": {},
   "outputs": [
    {
     "data": {
      "text/plain": [
       "100"
      ]
     },
     "execution_count": 18,
     "metadata": {},
     "output_type": "execute_result"
    }
   ],
   "source": [
    "# Task_No.4\n",
    "demo1.balance = 2000\n",
    "demo1.interestRate = 5\n",
    "demo1.interestAmount()"
   ]
  }
 ],
 "metadata": {
  "kernelspec": {
   "display_name": "Python 3 (ipykernel)",
   "language": "python",
   "name": "python3"
  },
  "language_info": {
   "codemirror_mode": {
    "name": "ipython",
    "version": 3
   },
   "file_extension": ".py",
   "mimetype": "text/x-python",
   "name": "python",
   "nbconvert_exporter": "python",
   "pygments_lexer": "ipython3",
   "version": "3.10.9"
  }
 },
 "nbformat": 4,
 "nbformat_minor": 5
}
